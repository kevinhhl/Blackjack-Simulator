{
 "cells": [
  {
   "cell_type": "markdown",
   "metadata": {},
   "source": [
    "## Blackjack Simulation: Part 1\n",
    "\n",
    "Welcome to this Jupyter Notebook experiment on simulating a single player hand in the game of Blackjack.\n",
    "\n",
    "In this notebook, we will focus on simulating (A) the distribution of outcomes on the two cards, and (B) standing on different values (targets ranging from 12 to 21).\n",
    "\n",
    "Through Python, we aim to gain insights into the probabilities and strategies involved in the game of Blackjack.\n",
    "\n",
    "This is just the beginning of our exploration (hence the name \"Part 1\"). In the future, we plan to expand our Monte Carlo simulation to include other factors, such as multiplayer scenarios. Let's dive in and uncover the secrets of Blackjack together!"
   ]
  },
  {
   "cell_type": "code",
   "execution_count": 1,
   "metadata": {},
   "outputs": [],
   "source": [
    "import random\n",
    "import matplotlib.pyplot as plt\n",
    "import numpy as np\n",
    "import pandas as pd"
   ]
  },
  {
   "cell_type": "markdown",
   "metadata": {},
   "source": [
    "## Implementation:"
   ]
  },
  {
   "cell_type": "code",
   "execution_count": 2,
   "metadata": {},
   "outputs": [],
   "source": [
    "class Deck:\n",
    "    def __init__(self, num_decks=1):\n",
    "        # Cards as integers, representing the value of the card in the game of blackjack\n",
    "        _spades = [11, 2, 3, 4, 5, 6, 7, 8, 9, 10, 10 , 10, 10]\n",
    "        _hearts = [11, 2, 3, 4, 5, 6, 7, 8, 9, 10 , 10, 10, 10]\n",
    "        _clubs = [11, 2, 3, 4, 5, 6, 7, 8, 9, 10 , 10, 10, 10]\n",
    "        _diamonds = [11, 2, 3, 4, 5, 6, 7, 8, 9, 10 , 10, 10, 10]\n",
    "\n",
    "        self.deck = []\n",
    "        for i in range(num_decks):\n",
    "            self.deck = _spades + _hearts + _clubs + _diamonds + self.deck\n",
    "        random.shuffle(self.deck)\n",
    "    \n",
    "    def deal(self):\n",
    "        return self.deck.pop()\n",
    "    \n",
    "    def __len__(self):\n",
    "        return len(self.deck)\n",
    "    \n",
    "    def __str__(self):\n",
    "        return str(self.deck)"
   ]
  },
  {
   "cell_type": "code",
   "execution_count": 3,
   "metadata": {},
   "outputs": [],
   "source": [
    "class Hand:\n",
    "    def __init__(self, cards):\n",
    "        self.cards = cards\n",
    "        \n",
    "    def get_value(self):\n",
    "        # Calculate the value of the hand\n",
    "\n",
    "        total = sum(self.cards)\n",
    "        _aces = self.cards.count(11) # temp var, init=no. of aces in the hand\n",
    "        \n",
    "        while total > 21 and _aces > 0:\n",
    "            total -= 10\n",
    "            _aces -= 1 # Update temp var, decrement no. of aces in hand\n",
    "\n",
    "        return total\n",
    "\n",
    "    def hit(self, card):\n",
    "        self.cards.append(card)\n",
    "\n",
    "    def __str__(self):\n",
    "        return str(self.cards)"
   ]
  },
  {
   "cell_type": "markdown",
   "metadata": {},
   "source": [
    "## Simulation1\n",
    "- Blackjack pays 3 to 2\n",
    "- Dealer must stand on soft 17 and must draw to 16\n",
    "- No splits"
   ]
  },
  {
   "cell_type": "code",
   "execution_count": 8,
   "metadata": {},
   "outputs": [
    {
     "name": "stdout",
     "output_type": "stream",
     "text": [
      "Player equity:  -29538.5\n",
      "Dealer equity:  29538.5\n",
      "Player's E(r) =  -0.0295385\n"
     ]
    }
   ],
   "source": [
    "# Simulation: Dealing the first two cards, no hit, just stand\n",
    "trials = 1000000\n",
    "\n",
    "player_equity = 0\n",
    "dealer_equity = 0\n",
    "\n",
    "deck = Deck(6)\n",
    "for i in range(trials):\n",
    "    # Save states for assertion\n",
    "    _player_equity = player_equity\n",
    "    _dealer_equity = dealer_equity\n",
    "\n",
    "    # Shuffle the deck if there are less than 52 cards left\n",
    "    if len(deck) < 52:\n",
    "        deck = Deck(6)\n",
    "\n",
    "    # Initialize hands and deal the first two cards\n",
    "    dealer_hand = Hand([])\n",
    "    my_hand = Hand([]) \n",
    "    my_hand.hit(deck.deal())\n",
    "    dealer_hand.hit(deck.deal())\n",
    "    my_hand.hit(deck.deal())\n",
    "    dealer_hand.hit(deck.deal())\n",
    "\n",
    "    # Player: Stand on 17 or higher\n",
    "    while my_hand.get_value() < 17:\n",
    "        my_hand.hit(deck.deal())\n",
    "\n",
    "    if my_hand.get_value() <= 21:\n",
    "        \n",
    "        # Dealer draws to 16 \n",
    "        while dealer_hand.get_value() < 16:\n",
    "            dealer_hand.hit(deck.deal())\n",
    "        \n",
    "        # Dealer stands on soft 17\n",
    "        if dealer_hand.get_value() == 17 and 11 in dealer_hand.cards:\n",
    "            pass\n",
    "        elif dealer_hand.get_value() == 17:\n",
    "            dealer_hand.hit(deck.deal())\n",
    "        \n",
    "    if my_hand.get_value() > 21:\n",
    "        dealer_equity += 1 # Dealer wins\n",
    "        player_equity -= 1\n",
    "    elif my_hand.get_value() <= 21:    \n",
    "        # Pushs = either (A) both have blackjack or (B) both have the same value\n",
    "        _push1 = my_hand.get_value() == 21 and len(my_hand.cards) == 2 and dealer_hand.get_value() == 21 and len(dealer_hand.cards) == 2\n",
    "        _push2 = my_hand.get_value() == dealer_hand.get_value()\n",
    "\n",
    "        if _push1 or _push2:\n",
    "            pass\n",
    "        elif my_hand.get_value() == 21 and len(my_hand.cards) == 2:\n",
    "            player_equity += 1.5 # Player wins, blackjack\n",
    "            dealer_equity -= 1.5\n",
    "        elif dealer_hand.get_value() > 21 or my_hand.get_value() > dealer_hand.get_value():\n",
    "            player_equity += 1 # Player wins\n",
    "            dealer_equity -= 1\n",
    "        elif dealer_hand.get_value() > my_hand.get_value():\n",
    "            dealer_equity += 1 # Dealer wins\n",
    "            player_equity -= 1\n",
    "    \n",
    "    assert _player_equity != player_equity or _dealer_equity != dealer_equity or _push1 or _push2, \"Something went wrong\"\n",
    "\n",
    "print(\"Player equity: \", player_equity )\n",
    "print(\"Dealer equity: \", dealer_equity )\n",
    "print(\"Player's E(r) = \", player_equity/trials) # each trial requires wagering 1 unit of bet"
   ]
  },
  {
   "cell_type": "code",
   "execution_count": null,
   "metadata": {},
   "outputs": [],
   "source": []
  }
 ],
 "metadata": {
  "kernelspec": {
   "display_name": "base",
   "language": "python",
   "name": "python3"
  },
  "language_info": {
   "codemirror_mode": {
    "name": "ipython",
    "version": 3
   },
   "file_extension": ".py",
   "mimetype": "text/x-python",
   "name": "python",
   "nbconvert_exporter": "python",
   "pygments_lexer": "ipython3",
   "version": "3.8.8"
  }
 },
 "nbformat": 4,
 "nbformat_minor": 2
}
