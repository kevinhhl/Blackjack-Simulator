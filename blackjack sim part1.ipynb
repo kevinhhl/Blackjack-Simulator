{
 "cells": [
  {
   "cell_type": "markdown",
   "metadata": {},
   "source": [
    "## Blackjack Simulation: Part 1\n",
    "\n",
    "Welcome to this Jupyter Notebook experiment on simulating a single player hand in the game of Blackjack.\n",
    "\n",
    "In this notebook, we will focus on simulating (A) the distribution of outcomes on the two cards, and (B) standing on different values (targets ranging from 12 to 21).\n",
    "\n",
    "Through Python, we aim to gain insights into the probabilities and strategies involved in the game of Blackjack.\n",
    "\n",
    "This is just the beginning of our exploration (hence the name \"Part 1\"). In the future, we plan to expand our Monte Carlo simulation to include other factors, such as multiplayer scenarios. Let's dive in and uncover the secrets of Blackjack together!"
   ]
  },
  {
   "cell_type": "code",
   "execution_count": 1,
   "metadata": {},
   "outputs": [],
   "source": [
    "import random\n",
    "import matplotlib.pyplot as plt\n",
    "import numpy as np\n",
    "import pandas as pd"
   ]
  },
  {
   "cell_type": "markdown",
   "metadata": {},
   "source": [
    "## Implementation:"
   ]
  },
  {
   "cell_type": "code",
   "execution_count": 2,
   "metadata": {},
   "outputs": [],
   "source": [
    "class Deck:\n",
    "    def __init__(self, num_decks=1):\n",
    "        # Cards as integers, representing the value of the card in the game of blackjack\n",
    "        _spades = [11, 2, 3, 4, 5, 6, 7, 8, 9, 10, 10 , 10, 10]\n",
    "        _hearts = [11, 2, 3, 4, 5, 6, 7, 8, 9, 10 , 10, 10, 10]\n",
    "        _clubs = [11, 2, 3, 4, 5, 6, 7, 8, 9, 10 , 10, 10, 10]\n",
    "        _diamonds = [11, 2, 3, 4, 5, 6, 7, 8, 9, 10 , 10, 10, 10]\n",
    "\n",
    "        self.deck = []\n",
    "        for i in range(num_decks):\n",
    "            self.deck = _spades + _hearts + _clubs + _diamonds + self.deck\n",
    "        random.shuffle(self.deck)\n",
    "    \n",
    "    def deal(self):\n",
    "        return self.deck.pop()\n",
    "    \n",
    "    def __len__(self):\n",
    "        return len(self.deck)\n",
    "    \n",
    "    def __str__(self):\n",
    "        return str(self.deck)"
   ]
  },
  {
   "cell_type": "code",
   "execution_count": 3,
   "metadata": {},
   "outputs": [],
   "source": [
    "class Hand:\n",
    "    def __init__(self, cards):\n",
    "        self.cards = cards\n",
    "        \n",
    "    def get_value(self):\n",
    "        # Calculate the value of the hand\n",
    "\n",
    "        total = sum(self.cards)\n",
    "        _aces = self.cards.count(11) # temp var, init=no. of aces in the hand\n",
    "        \n",
    "        while total > 21 and _aces > 0:\n",
    "            total -= 10\n",
    "            _aces -= 1 # Update temp var, decrement no. of aces in hand\n",
    "\n",
    "        return total\n",
    "\n",
    "    def hit(self, card):\n",
    "        self.cards.append(card)\n",
    "\n",
    "    def __str__(self):\n",
    "        return str(self.cards)"
   ]
  },
  {
   "cell_type": "markdown",
   "metadata": {},
   "source": [
    "## Simulation: Dealing the first hand"
   ]
  },
  {
   "cell_type": "code",
   "execution_count": 4,
   "metadata": {},
   "outputs": [
    {
     "name": "stdout",
     "output_type": "stream",
     "text": [
      "Mean:  14.55868\n",
      "Median:  15.0\n",
      "Std:  4.084915257089185\n",
      "Min:  4.0\n",
      "Max:  21.0\n"
     ]
    }
   ],
   "source": [
    "# Simulation: Dealing the first two cards, no hit, just stand\n",
    "trials = 500000\n",
    "values = np.array([])\n",
    "\n",
    "deck = Deck(6)\n",
    "for i in range(trials):\n",
    "    if len(deck) == 0:\n",
    "        deck = Deck(6)\n",
    "    my_hand = Hand([deck.deal(), deck.deal()])\n",
    "    values = np.append(values, my_hand.get_value())\n",
    "\n",
    "# Descriptive statistics\n",
    "print(\"Mean: \", np.mean(values))\n",
    "print(\"Median: \", np.median(values))\n",
    "print(\"Std: \", np.std(values))\n",
    "print(\"Min: \", np.min(values))\n",
    "print(\"Max: \", np.max(values))"
   ]
  },
  {
   "cell_type": "code",
   "execution_count": 20,
   "metadata": {},
   "outputs": [
    {
     "name": "stdout",
     "output_type": "stream",
     "text": [
      "Upon dealing the first two cards:\n"
     ]
    },
    {
     "data": {
      "text/html": [
       "<div>\n",
       "<style scoped>\n",
       "    .dataframe tbody tr th:only-of-type {\n",
       "        vertical-align: middle;\n",
       "    }\n",
       "\n",
       "    .dataframe tbody tr th {\n",
       "        vertical-align: top;\n",
       "    }\n",
       "\n",
       "    .dataframe thead th {\n",
       "        text-align: right;\n",
       "    }\n",
       "</style>\n",
       "<table border=\"1\" class=\"dataframe\">\n",
       "  <thead>\n",
       "    <tr style=\"text-align: right;\">\n",
       "      <th></th>\n",
       "      <th>Probability</th>\n",
       "    </tr>\n",
       "    <tr>\n",
       "      <th>Value of Hand</th>\n",
       "      <th></th>\n",
       "    </tr>\n",
       "  </thead>\n",
       "  <tbody>\n",
       "    <tr>\n",
       "      <th>0</th>\n",
       "      <td>0.000000</td>\n",
       "    </tr>\n",
       "    <tr>\n",
       "      <th>1</th>\n",
       "      <td>0.000000</td>\n",
       "    </tr>\n",
       "    <tr>\n",
       "      <th>2</th>\n",
       "      <td>0.000000</td>\n",
       "    </tr>\n",
       "    <tr>\n",
       "      <th>3</th>\n",
       "      <td>0.000000</td>\n",
       "    </tr>\n",
       "    <tr>\n",
       "      <th>4</th>\n",
       "      <td>0.005678</td>\n",
       "    </tr>\n",
       "    <tr>\n",
       "      <th>5</th>\n",
       "      <td>0.011698</td>\n",
       "    </tr>\n",
       "    <tr>\n",
       "      <th>6</th>\n",
       "      <td>0.017864</td>\n",
       "    </tr>\n",
       "    <tr>\n",
       "      <th>7</th>\n",
       "      <td>0.023488</td>\n",
       "    </tr>\n",
       "    <tr>\n",
       "      <th>8</th>\n",
       "      <td>0.029066</td>\n",
       "    </tr>\n",
       "    <tr>\n",
       "      <th>9</th>\n",
       "      <td>0.035754</td>\n",
       "    </tr>\n",
       "    <tr>\n",
       "      <th>10</th>\n",
       "      <td>0.041220</td>\n",
       "    </tr>\n",
       "    <tr>\n",
       "      <th>11</th>\n",
       "      <td>0.047590</td>\n",
       "    </tr>\n",
       "    <tr>\n",
       "      <th>12</th>\n",
       "      <td>0.094810</td>\n",
       "    </tr>\n",
       "    <tr>\n",
       "      <th>13</th>\n",
       "      <td>0.095346</td>\n",
       "    </tr>\n",
       "    <tr>\n",
       "      <th>14</th>\n",
       "      <td>0.088812</td>\n",
       "    </tr>\n",
       "    <tr>\n",
       "      <th>15</th>\n",
       "      <td>0.082710</td>\n",
       "    </tr>\n",
       "    <tr>\n",
       "      <th>16</th>\n",
       "      <td>0.077318</td>\n",
       "    </tr>\n",
       "    <tr>\n",
       "      <th>17</th>\n",
       "      <td>0.071272</td>\n",
       "    </tr>\n",
       "    <tr>\n",
       "      <th>18</th>\n",
       "      <td>0.064830</td>\n",
       "    </tr>\n",
       "    <tr>\n",
       "      <th>19</th>\n",
       "      <td>0.059398</td>\n",
       "    </tr>\n",
       "    <tr>\n",
       "      <th>20</th>\n",
       "      <td>0.105642</td>\n",
       "    </tr>\n",
       "    <tr>\n",
       "      <th>21</th>\n",
       "      <td>0.047504</td>\n",
       "    </tr>\n",
       "    <tr>\n",
       "      <th>22</th>\n",
       "      <td>0.000000</td>\n",
       "    </tr>\n",
       "  </tbody>\n",
       "</table>\n",
       "</div>"
      ],
      "text/plain": [
       "               Probability\n",
       "Value of Hand             \n",
       "0                 0.000000\n",
       "1                 0.000000\n",
       "2                 0.000000\n",
       "3                 0.000000\n",
       "4                 0.005678\n",
       "5                 0.011698\n",
       "6                 0.017864\n",
       "7                 0.023488\n",
       "8                 0.029066\n",
       "9                 0.035754\n",
       "10                0.041220\n",
       "11                0.047590\n",
       "12                0.094810\n",
       "13                0.095346\n",
       "14                0.088812\n",
       "15                0.082710\n",
       "16                0.077318\n",
       "17                0.071272\n",
       "18                0.064830\n",
       "19                0.059398\n",
       "20                0.105642\n",
       "21                0.047504\n",
       "22                0.000000"
      ]
     },
     "execution_count": 20,
     "metadata": {},
     "output_type": "execute_result"
    }
   ],
   "source": [
    "prob_X = {} \n",
    "for i in range(23):\n",
    "    prob_X[i] = np.sum(values == i) / trials\n",
    "\n",
    "# Present data in a table\n",
    "print(\"Upon dealing the first two cards:\")\n",
    "df = pd.DataFrame.from_dict(prob_X, orient='index')\n",
    "df.columns = ['Probability']\n",
    "df.index.name = 'Value of Hand'\n",
    "df\n"
   ]
  },
  {
   "cell_type": "code",
   "execution_count": 6,
   "metadata": {},
   "outputs": [],
   "source": [
    "# Validations\n",
    "PERCISION = 0.001\n",
    "\n",
    "# _expected_prob = P(10 or face card) and P(Ace) on first two cards drawn\n",
    "_expected_prob = (4/52*16/51 + 16/52*4/51)\n",
    "assert abs(prob_X[21] - _expected_prob) < PERCISION, \"Probability of 21 is wrong\""
   ]
  },
  {
   "cell_type": "code",
   "execution_count": 21,
   "metadata": {},
   "outputs": [
    {
     "data": {
      "image/png": "[encoded data removed]",
      "text/plain": [
       "<Figure size 640x480 with 1 Axes>"
      ]
     },
     "metadata": {},
     "output_type": "display_data"
    }
   ],
   "source": [
    "# Plotting: occurrence of hand value upon dealing the first two cards\n",
    "plt.hist(values, density=True, bins=18)\n",
    "plt.xlabel(\"Hand Value\")\n",
    "plt.ylabel(\"Probability\")\n",
    "plt.title(\"Blackjack Hand Values of the First Two Cards\")\n",
    "plt.show()"
   ]
  },
  {
   "cell_type": "markdown",
   "metadata": {},
   "source": [
    "## Simulation: Hitting until reaching certain targets\n",
    "\n",
    "This section focuses on simulating the strategy of \"hitting\" in Blackjack to reach target points. Players can choose to \"hit\" or \"stand\" based on their hand's total points and strategy.\n",
    "\n",
    "We will simulate this strategy for different target points (12 to 21) to observe how the game's outcome changes. This involves running multiple rounds of Blackjack simulations and recording the results for analysis.\n"
   ]
  },
  {
   "cell_type": "code",
   "execution_count": 8,
   "metadata": {},
   "outputs": [],
   "source": [
    "# Helper function for different types of analysis\n",
    "def _sim(trials, target_value, do_plot=False):\n",
    "    # Simulation:\n",
    "    values = np.array([])\n",
    "\n",
    "    deck = Deck(6)\n",
    "    for i in range(trials):\n",
    "        if len(deck) < 52:\n",
    "            deck = Deck(6)\n",
    "        my_hand = Hand([deck.deal(), deck.deal()])\n",
    "        while my_hand.get_value() < target_value:\n",
    "            my_hand.hit(deck.deal())\n",
    "        values = np.append(values, my_hand.get_value())\n",
    "\n",
    "    if do_plot:\n",
    "        plt.hist(values, bins=30, density=True)\n",
    "        plt.show()\n",
    "        # Descriptive statistics\n",
    "        print(\"Mean: \", np.mean(values))\n",
    "        print(\"Median: \", np.median(values))\n",
    "        print(\"Std: \", np.std(values))\n",
    "        print(\"Min: \", np.min(values))\n",
    "        print(\"Max: \", np.max(values))\n",
    "\n",
    "    return values"
   ]
  },
  {
   "cell_type": "code",
   "execution_count": 9,
   "metadata": {},
   "outputs": [],
   "source": [
    "def analysis2(target_value, do_plot=False):\n",
    "    trials = 100000\n",
    "    sim_values = _sim(trials, target_value, do_plot)\n",
    "\n",
    "    prob_bust = np.sum(sim_values > 21) / trials\n",
    "    prob_reach_21 = np.sum(sim_values == 21) / trials\n",
    "    return prob_bust, prob_reach_21"
   ]
  },
  {
   "cell_type": "code",
   "execution_count": 10,
   "metadata": {},
   "outputs": [],
   "source": [
    "prob_bust_X = np.array([])\n",
    "prob_reach_21 = np.array([])\n",
    "lowerbound = 12\n",
    "upperbound = 22\n",
    "for i in range(lowerbound, upperbound):\n",
    "    sims = analysis2(i)\n",
    "    prob_bust_X = np.append(prob_bust_X, sims[0])\n",
    "    prob_reach_21 = np.append(prob_reach_21, sims[1]) \n"
   ]
  },
  {
   "cell_type": "code",
   "execution_count": 11,
   "metadata": {},
   "outputs": [
    {
     "data": {
      "text/html": [
       "<div>\n",
       "<style scoped>\n",
       "    .dataframe tbody tr th:only-of-type {\n",
       "        vertical-align: middle;\n",
       "    }\n",
       "\n",
       "    .dataframe tbody tr th {\n",
       "        vertical-align: top;\n",
       "    }\n",
       "\n",
       "    .dataframe thead th {\n",
       "        text-align: right;\n",
       "    }\n",
       "</style>\n",
       "<table border=\"1\" class=\"dataframe\">\n",
       "  <thead>\n",
       "    <tr style=\"text-align: right;\">\n",
       "      <th></th>\n",
       "      <th>Target Value</th>\n",
       "      <th>Probability of busting</th>\n",
       "      <th>Probability of reaching 21</th>\n",
       "    </tr>\n",
       "  </thead>\n",
       "  <tbody>\n",
       "    <tr>\n",
       "      <th>0</th>\n",
       "      <td>12</td>\n",
       "      <td>0.00000</td>\n",
       "      <td>0.06871</td>\n",
       "    </tr>\n",
       "    <tr>\n",
       "      <th>1</th>\n",
       "      <td>13</td>\n",
       "      <td>0.03309</td>\n",
       "      <td>0.07860</td>\n",
       "    </tr>\n",
       "    <tr>\n",
       "      <th>2</th>\n",
       "      <td>14</td>\n",
       "      <td>0.07724</td>\n",
       "      <td>0.08794</td>\n",
       "    </tr>\n",
       "    <tr>\n",
       "      <th>3</th>\n",
       "      <td>15</td>\n",
       "      <td>0.13349</td>\n",
       "      <td>0.09669</td>\n",
       "    </tr>\n",
       "    <tr>\n",
       "      <th>4</th>\n",
       "      <td>16</td>\n",
       "      <td>0.19994</td>\n",
       "      <td>0.10933</td>\n",
       "    </tr>\n",
       "    <tr>\n",
       "      <th>5</th>\n",
       "      <td>17</td>\n",
       "      <td>0.28194</td>\n",
       "      <td>0.11983</td>\n",
       "    </tr>\n",
       "    <tr>\n",
       "      <th>6</th>\n",
       "      <td>18</td>\n",
       "      <td>0.37540</td>\n",
       "      <td>0.13152</td>\n",
       "    </tr>\n",
       "    <tr>\n",
       "      <th>7</th>\n",
       "      <td>19</td>\n",
       "      <td>0.49357</td>\n",
       "      <td>0.14536</td>\n",
       "    </tr>\n",
       "    <tr>\n",
       "      <th>8</th>\n",
       "      <td>20</td>\n",
       "      <td>0.62047</td>\n",
       "      <td>0.15962</td>\n",
       "    </tr>\n",
       "    <tr>\n",
       "      <th>9</th>\n",
       "      <td>21</td>\n",
       "      <td>0.82277</td>\n",
       "      <td>0.17723</td>\n",
       "    </tr>\n",
       "  </tbody>\n",
       "</table>\n",
       "</div>"
      ],
      "text/plain": [
       "   Target Value  Probability of busting  Probability of reaching 21\n",
       "0            12                 0.00000                     0.06871\n",
       "1            13                 0.03309                     0.07860\n",
       "2            14                 0.07724                     0.08794\n",
       "3            15                 0.13349                     0.09669\n",
       "4            16                 0.19994                     0.10933\n",
       "5            17                 0.28194                     0.11983\n",
       "6            18                 0.37540                     0.13152\n",
       "7            19                 0.49357                     0.14536\n",
       "8            20                 0.62047                     0.15962\n",
       "9            21                 0.82277                     0.17723"
      ]
     },
     "execution_count": 11,
     "metadata": {},
     "output_type": "execute_result"
    }
   ],
   "source": [
    "# Present the data in a table\n",
    "df = pd.DataFrame()\n",
    "df['Target Value'] = np.arange(lowerbound, upperbound)\n",
    "df['Probability of busting'] = prob_bust_X\n",
    "df['Probability of reaching 21'] = prob_reach_21\n",
    "df"
   ]
  },
  {
   "cell_type": "markdown",
   "metadata": {},
   "source": [
    "### If you keep hitting until you reach a target value:"
   ]
  },
  {
   "cell_type": "code",
   "execution_count": 12,
   "metadata": {},
   "outputs": [
    {
     "data": {
      "image/png": "[encoded data removed]",
      "text/plain": [
       "<Figure size 500x500 with 2 Axes>"
      ]
     },
     "metadata": {},
     "output_type": "display_data"
    }
   ],
   "source": [
    "fig, axs = plt.subplots(2, figsize=(5, 5))\n",
    "\n",
    "# Plot 1.1\n",
    "axs[0].plot(np.arange(lowerbound, upperbound), prob_bust_X, color='r')\n",
    "axs[0].set_title(\"Figure 1.1: Probability of bust\")\n",
    "axs[0].set_xlabel(\"target_value\")\n",
    "axs[0].set_ylabel(\"Probability\")\n",
    "\n",
    "# Plot 1.2\n",
    "axs[1].plot(np.arange(lowerbound, upperbound), prob_reach_21, color='b')\n",
    "axs[1].set_title(\"Figure 1.2: Probability of reaching 21\")\n",
    "axs[1].set_xlabel(\"target_value\")\n",
    "axs[1].set_ylabel(\"Probability\")\n",
    "\n",
    "# Scale the y-axis to be the same for both plots\n",
    "axs[0].set_ylim([0, 1])\n",
    "axs[1].set_ylim([0, 1])\n",
    "\n",
    "plt.tight_layout()\n",
    "plt.show()"
   ]
  },
  {
   "cell_type": "code",
   "execution_count": 16,
   "metadata": {},
   "outputs": [
    {
     "data": {
      "text/html": [
       "<div>\n",
       "<style scoped>\n",
       "    .dataframe tbody tr th:only-of-type {\n",
       "        vertical-align: middle;\n",
       "    }\n",
       "\n",
       "    .dataframe tbody tr th {\n",
       "        vertical-align: top;\n",
       "    }\n",
       "\n",
       "    .dataframe thead th {\n",
       "        text-align: right;\n",
       "    }\n",
       "</style>\n",
       "<table border=\"1\" class=\"dataframe\">\n",
       "  <thead>\n",
       "    <tr style=\"text-align: right;\">\n",
       "      <th></th>\n",
       "      <th>Target Value</th>\n",
       "      <th>Probability of busting (Figure 1.1)</th>\n",
       "      <th>Probability of reaching 21 (Figure 1.2)</th>\n",
       "    </tr>\n",
       "  </thead>\n",
       "  <tbody>\n",
       "    <tr>\n",
       "      <th>0</th>\n",
       "      <td>12</td>\n",
       "      <td>0.00000</td>\n",
       "      <td>0.06871</td>\n",
       "    </tr>\n",
       "    <tr>\n",
       "      <th>1</th>\n",
       "      <td>13</td>\n",
       "      <td>0.03309</td>\n",
       "      <td>0.07860</td>\n",
       "    </tr>\n",
       "    <tr>\n",
       "      <th>2</th>\n",
       "      <td>14</td>\n",
       "      <td>0.07724</td>\n",
       "      <td>0.08794</td>\n",
       "    </tr>\n",
       "    <tr>\n",
       "      <th>3</th>\n",
       "      <td>15</td>\n",
       "      <td>0.13349</td>\n",
       "      <td>0.09669</td>\n",
       "    </tr>\n",
       "    <tr>\n",
       "      <th>4</th>\n",
       "      <td>16</td>\n",
       "      <td>0.19994</td>\n",
       "      <td>0.10933</td>\n",
       "    </tr>\n",
       "    <tr>\n",
       "      <th>5</th>\n",
       "      <td>17</td>\n",
       "      <td>0.28194</td>\n",
       "      <td>0.11983</td>\n",
       "    </tr>\n",
       "    <tr>\n",
       "      <th>6</th>\n",
       "      <td>18</td>\n",
       "      <td>0.37540</td>\n",
       "      <td>0.13152</td>\n",
       "    </tr>\n",
       "    <tr>\n",
       "      <th>7</th>\n",
       "      <td>19</td>\n",
       "      <td>0.49357</td>\n",
       "      <td>0.14536</td>\n",
       "    </tr>\n",
       "    <tr>\n",
       "      <th>8</th>\n",
       "      <td>20</td>\n",
       "      <td>0.62047</td>\n",
       "      <td>0.15962</td>\n",
       "    </tr>\n",
       "    <tr>\n",
       "      <th>9</th>\n",
       "      <td>21</td>\n",
       "      <td>0.82277</td>\n",
       "      <td>0.17723</td>\n",
       "    </tr>\n",
       "  </tbody>\n",
       "</table>\n",
       "</div>"
      ],
      "text/plain": [
       "   Target Value  Probability of busting (Figure 1.1)  \\\n",
       "0            12                              0.00000   \n",
       "1            13                              0.03309   \n",
       "2            14                              0.07724   \n",
       "3            15                              0.13349   \n",
       "4            16                              0.19994   \n",
       "5            17                              0.28194   \n",
       "6            18                              0.37540   \n",
       "7            19                              0.49357   \n",
       "8            20                              0.62047   \n",
       "9            21                              0.82277   \n",
       "\n",
       "   Probability of reaching 21 (Figure 1.2)  \n",
       "0                                  0.06871  \n",
       "1                                  0.07860  \n",
       "2                                  0.08794  \n",
       "3                                  0.09669  \n",
       "4                                  0.10933  \n",
       "5                                  0.11983  \n",
       "6                                  0.13152  \n",
       "7                                  0.14536  \n",
       "8                                  0.15962  \n",
       "9                                  0.17723  "
      ]
     },
     "execution_count": 16,
     "metadata": {},
     "output_type": "execute_result"
    }
   ],
   "source": [
    "# Present the data in a table\n",
    "df = pd.DataFrame()\n",
    "df['Target Value'] = np.arange(lowerbound, upperbound)\n",
    "df['Probability of busting (Figure 1.1)'] = prob_bust_X\n",
    "df['Probability of reaching 21 (Figure 1.2)'] = prob_reach_21\n",
    "df"
   ]
  },
  {
   "cell_type": "code",
   "execution_count": 13,
   "metadata": {},
   "outputs": [
    {
     "name": "stdout",
     "output_type": "stream",
     "text": [
      "Plotting the rate of change of the probabilities:\n"
     ]
    },
    {
     "data": {
      "image/png": "[encoded data removed]",
      "text/plain": [
       "<Figure size 800x500 with 1 Axes>"
      ]
     },
     "metadata": {},
     "output_type": "display_data"
    }
   ],
   "source": [
    "# Plot marginal costs and benefits, costs being the marginal probability of busting, benefits being the marginal probability of reaching 21\n",
    "plt.figure(figsize=(8, 5)) \n",
    "plt.plot(np.arange(lowerbound, upperbound), np.gradient(prob_bust_X), color='r')\n",
    "plt.plot(np.arange(lowerbound, upperbound), np.gradient(prob_reach_21), color='b')\n",
    "plt.title(\"Figure 2:\")\n",
    "plt.xlabel(\"target_value\")\n",
    "plt.ylabel(\"Probability\")\n",
    "\n",
    "# Mid point\n",
    "_mid = (upperbound - lowerbound) // 2 + lowerbound\n",
    "plt.plot([_mid, _mid], [0, 0.2], linestyle='--', linewidth=1, color='gray')\n",
    "\n",
    "# Legend\n",
    "plt.legend([\"Marginal cost (MC)\", \"Marginal benefit (MB)\", \"Mid point\"], loc='upper left')\n",
    "\n",
    "print(\"Plotting the rate of change of the probabilities:\")\n",
    "plt.show()"
   ]
  },
  {
   "cell_type": "markdown",
   "metadata": {},
   "source": [
    "### Observations:\n",
    "Based on our simulation, we found that the probability of busting increases sharply as the target value in Blackjack gets higher. This suggests a substantial risk of surpassing 21 when aiming for higher target points.\n",
    "\n",
    "It appears that there is no optimal target value since the MC (marginal cost) and MB (marginal benefit) curves never intersect. Therefore, a reasonable approach would be to select a target value within the middle range. This choice assumes a balance between the risk of busting and the potential to achieve a high total point."
   ]
  },
  {
   "cell_type": "markdown",
   "metadata": {},
   "source": [
    "### Conclusions:\n",
    "- There is no optimal value for a player to stand on, and hitting until reaching 21 is not a sound strategy.\n",
    "\n",
    "- While there is no foolproof winning strategy, players might still be able to use dominant strategies to minimize losses. This will be explored in Part 2 of this project."
   ]
  }
 ],
 "metadata": {
  "kernelspec": {
   "display_name": "base",
   "language": "python",
   "name": "python3"
  },
  "language_info": {
   "codemirror_mode": {
    "name": "ipython",
    "version": 3
   },
   "file_extension": ".py",
   "mimetype": "text/x-python",
   "name": "python",
   "nbconvert_exporter": "python",
   "pygments_lexer": "ipython3",
   "version": "3.8.8"
  }
 },
 "nbformat": 4,
 "nbformat_minor": 2
}
